{
  "nbformat": 4,
  "nbformat_minor": 0,
  "metadata": {
    "kernelspec": {
      "display_name": "Python 3",
      "language": "python",
      "name": "python3"
    },
    "language_info": {
      "codemirror_mode": {
        "name": "ipython",
        "version": 3
      },
      "file_extension": ".py",
      "mimetype": "text/x-python",
      "name": "python",
      "nbconvert_exporter": "python",
      "pygments_lexer": "ipython3",
      "version": "3.6.9"
    },
    "colab": {
      "name": "spark-lr-ecom-exercise.ipynb",
      "provenance": [],
      "include_colab_link": true
    }
  },
  "cells": [
    {
      "cell_type": "markdown",
      "metadata": {
        "id": "view-in-github",
        "colab_type": "text"
      },
      "source": [
        "<a href=\"https://colab.research.google.com/github/bennng/Spark/blob/master/spark_lr_ecom_exercise.ipynb\" target=\"_parent\"><img src=\"https://colab.research.google.com/assets/colab-badge.svg\" alt=\"Open In Colab\"/></a>"
      ]
    },
    {
      "cell_type": "markdown",
      "metadata": {
        "id": "clDQZRgrWGtv",
        "colab_type": "text"
      },
      "source": [
        "# Spark Linear Regression Demonstration"
      ]
    },
    {
      "cell_type": "code",
      "metadata": {
        "id": "XPLCqiG3WGtw",
        "colab_type": "code",
        "colab": {}
      },
      "source": [
        ""
      ],
      "execution_count": 0,
      "outputs": []
    },
    {
      "cell_type": "markdown",
      "metadata": {
        "id": "ikPIJJ8fWSlH",
        "colab_type": "text"
      },
      "source": [
        ""
      ]
    },
    {
      "cell_type": "code",
      "metadata": {
        "id": "i2TZlwirWGtz",
        "colab_type": "code",
        "colab": {}
      },
      "source": [
        "import findspark\n",
        "findspark.init('/home/ben/spark-3.0.0-preview-bin-hadoop2.7')\n",
        "import pyspark\n",
        "from pyspark.sql import SparkSession"
      ],
      "execution_count": 0,
      "outputs": []
    },
    {
      "cell_type": "code",
      "metadata": {
        "id": "KAAHuWW-WGt3",
        "colab_type": "code",
        "colab": {}
      },
      "source": [
        "spark = SparkSession.builder.appName('linear_regression_ecom').getOrCreate()"
      ],
      "execution_count": 0,
      "outputs": []
    },
    {
      "cell_type": "code",
      "metadata": {
        "id": "6qlA_-cfWGt5",
        "colab_type": "code",
        "colab": {}
      },
      "source": [
        "from pyspark.ml.regression import LinearRegression"
      ],
      "execution_count": 0,
      "outputs": []
    },
    {
      "cell_type": "code",
      "metadata": {
        "scrolled": false,
        "id": "CdjVyAUIWGt-",
        "colab_type": "code",
        "colab": {}
      },
      "source": [
        "data = spark.read.csv(\"Ecommerce_Customers.csv\", inferSchema=True, header=True)"
      ],
      "execution_count": 0,
      "outputs": []
    },
    {
      "cell_type": "code",
      "metadata": {
        "id": "27l4qRCIWGuB",
        "colab_type": "code",
        "outputId": "c1bbbbf7-74ea-440e-deb1-d5dc7d4f9320",
        "colab": {}
      },
      "source": [
        "data.printSchema()"
      ],
      "execution_count": 0,
      "outputs": [
        {
          "output_type": "stream",
          "text": [
            "root\n",
            " |-- Email: string (nullable = true)\n",
            " |-- Address: string (nullable = true)\n",
            " |-- Avatar: string (nullable = true)\n",
            " |-- Avg Session Length: double (nullable = true)\n",
            " |-- Time on App: double (nullable = true)\n",
            " |-- Time on Website: double (nullable = true)\n",
            " |-- Length of Membership: double (nullable = true)\n",
            " |-- Yearly Amount Spent: double (nullable = true)\n",
            "\n"
          ],
          "name": "stdout"
        }
      ]
    },
    {
      "cell_type": "code",
      "metadata": {
        "id": "5sKg_x99WGuF",
        "colab_type": "code",
        "outputId": "2ad48e40-3cd4-4239-fe46-db8de4e4b7fd",
        "colab": {}
      },
      "source": [
        "data.show()"
      ],
      "execution_count": 0,
      "outputs": [
        {
          "output_type": "stream",
          "text": [
            "+--------------------+--------------------+----------------+------------------+------------------+------------------+--------------------+-------------------+\n",
            "|               Email|             Address|          Avatar|Avg Session Length|       Time on App|   Time on Website|Length of Membership|Yearly Amount Spent|\n",
            "+--------------------+--------------------+----------------+------------------+------------------+------------------+--------------------+-------------------+\n",
            "|mstephenson@ferna...|835 Frank TunnelW...|          Violet| 34.49726772511229| 12.65565114916675| 39.57766801952616|  4.0826206329529615|  587.9510539684005|\n",
            "|   hduke@hotmail.com|4547 Archer Commo...|       DarkGreen| 31.92627202636016|11.109460728682564|37.268958868297744|    2.66403418213262|  392.2049334443264|\n",
            "|    pallen@yahoo.com|24645 Valerie Uni...|          Bisque|33.000914755642675|11.330278057777512|37.110597442120856|   4.104543202376424| 487.54750486747207|\n",
            "|riverarebecca@gma...|1414 David Throug...|     SaddleBrown| 34.30555662975554|13.717513665142507| 36.72128267790313|   3.120178782748092|  581.8523440352177|\n",
            "|mstephens@davidso...|14023 Rodriguez P...|MediumAquaMarine| 33.33067252364639|12.795188551078114| 37.53665330059473|   4.446308318351434|  599.4060920457634|\n",
            "|alvareznancy@luca...|645 Martha Park A...|     FloralWhite|33.871037879341976|12.026925339755056| 34.47687762925054|   5.493507201364199|   637.102447915074|\n",
            "|katherine20@yahoo...|68388 Reyes Light...|   DarkSlateBlue| 32.02159550138701|11.366348309710526| 36.68377615286961|   4.685017246570912|  521.5721747578274|\n",
            "|  awatkins@yahoo.com|Unit 6538 Box 898...|            Aqua|32.739142938380326| 12.35195897300293| 37.37335885854755|  4.4342734348999375|  549.9041461052942|\n",
            "|vchurch@walter-ma...|860 Lee KeyWest D...|          Salmon| 33.98777289568564|13.386235275676436|37.534497341555735|  3.2734335777477144|  570.2004089636196|\n",
            "|    bonnie69@lin.biz|PSC 2734, Box 525...|           Brown|31.936548618448917|11.814128294972196| 37.14516822352819|   3.202806071553459|  427.1993848953282|\n",
            "|andrew06@peterson...|26104 Alexander G...|          Tomato|33.992572774953736|13.338975447662113| 37.22580613162114|   2.482607770510596|  492.6060127179966|\n",
            "|ryanwerner@freema...|Unit 2413 Box 034...|          Tomato| 33.87936082480498|11.584782999535266| 37.08792607098381|    3.71320920294043|  522.3374046069357|\n",
            "|   knelson@gmail.com|6705 Miller Orcha...|       RoyalBlue|29.532428967057943|10.961298400154098| 37.42021557502538|   4.046423164299585|  408.6403510726275|\n",
            "|wrightpeter@yahoo...|05302 Dunlap Ferr...|          Bisque| 33.19033404372265|12.959226091609382|36.144666700041924|   3.918541839158999|  573.4158673313865|\n",
            "|taylormason@gmail...|7773 Powell Sprin...|        DarkBlue|32.387975853153876|13.148725692056516| 36.61995708279922|   2.494543646659249|  470.4527333009554|\n",
            "| jstark@anderson.com|49558 Ramirez Roa...|            Peru|30.737720372628182|12.636606052000127|36.213763093698624|  3.3578468423262944|  461.7807421962299|\n",
            "| wjennings@gmail.com|6362 Wilson Mount...|      PowderBlue| 32.12538689728784|11.733861690857394|  34.8940927514398|  3.1361327164897803| 457.84769594494855|\n",
            "|rebecca45@hale-ba...|8982 Burton RowWi...|       OliveDrab|32.338899323067196|12.013194694014402| 38.38513659413844|   2.420806160901484| 407.70454754954415|\n",
            "|alejandro75@hotma...|64475 Andre Club ...|            Cyan|32.187812045932155|  14.7153875441565| 38.24411459434352|   1.516575580831944|  452.3156754800354|\n",
            "|samuel46@love-wes...|544 Alexander Hei...|   LightSeaGreen| 32.61785606282345|13.989592555825254|37.190503800397956|   4.064548550437977|   605.061038804892|\n",
            "+--------------------+--------------------+----------------+------------------+------------------+------------------+--------------------+-------------------+\n",
            "only showing top 20 rows\n",
            "\n"
          ],
          "name": "stdout"
        }
      ]
    },
    {
      "cell_type": "code",
      "metadata": {
        "id": "RAkfN-c7WGuK",
        "colab_type": "code",
        "outputId": "ae186657-228a-43de-aafb-f4d11dd2d842",
        "colab": {}
      },
      "source": [
        "data.head()"
      ],
      "execution_count": 0,
      "outputs": [
        {
          "output_type": "execute_result",
          "data": {
            "text/plain": [
              "Row(Email='mstephenson@fernandez.com', Address='835 Frank TunnelWrightmouth, MI 82180-9605', Avatar='Violet', Avg Session Length=34.49726772511229, Time on App=12.65565114916675, Time on Website=39.57766801952616, Length of Membership=4.0826206329529615, Yearly Amount Spent=587.9510539684005)"
            ]
          },
          "metadata": {
            "tags": []
          },
          "execution_count": 7
        }
      ]
    },
    {
      "cell_type": "code",
      "metadata": {
        "id": "68v3waQ7WGuM",
        "colab_type": "code",
        "outputId": "d5789b35-8f6e-4037-9d2b-3c3968c9c1c8",
        "colab": {}
      },
      "source": [
        "for item in data.head():\n",
        "    print(item)"
      ],
      "execution_count": 0,
      "outputs": [
        {
          "output_type": "stream",
          "text": [
            "mstephenson@fernandez.com\n",
            "835 Frank TunnelWrightmouth, MI 82180-9605\n",
            "Violet\n",
            "34.49726772511229\n",
            "12.65565114916675\n",
            "39.57766801952616\n",
            "4.0826206329529615\n",
            "587.9510539684005\n"
          ],
          "name": "stdout"
        }
      ]
    },
    {
      "cell_type": "code",
      "metadata": {
        "id": "uIVVAM9_WGuW",
        "colab_type": "code",
        "colab": {}
      },
      "source": [
        "from pyspark.ml.linalg import Vectors\n",
        "from pyspark.ml.feature import VectorAssembler"
      ],
      "execution_count": 0,
      "outputs": []
    },
    {
      "cell_type": "code",
      "metadata": {
        "id": "QAZof9KwWGuZ",
        "colab_type": "code",
        "outputId": "d86e8682-7460-4d82-ec0c-9d30a29c849a",
        "colab": {}
      },
      "source": [
        "data.columns"
      ],
      "execution_count": 0,
      "outputs": [
        {
          "output_type": "execute_result",
          "data": {
            "text/plain": [
              "['Email',\n",
              " 'Address',\n",
              " 'Avatar',\n",
              " 'Avg Session Length',\n",
              " 'Time on App',\n",
              " 'Time on Website',\n",
              " 'Length of Membership',\n",
              " 'Yearly Amount Spent']"
            ]
          },
          "metadata": {
            "tags": []
          },
          "execution_count": 10
        }
      ]
    },
    {
      "cell_type": "code",
      "metadata": {
        "id": "vCa5DkzPWGuc",
        "colab_type": "code",
        "colab": {}
      },
      "source": [
        "assembler = VectorAssembler(\n",
        "    inputCols=[\"Avg Session Length\", \"Time on App\", \n",
        "               \"Time on Website\",'Length of Membership'],\n",
        "    outputCol=\"features\")"
      ],
      "execution_count": 0,
      "outputs": []
    },
    {
      "cell_type": "code",
      "metadata": {
        "id": "qVi1F1I1WGug",
        "colab_type": "code",
        "colab": {}
      },
      "source": [
        "output = assembler.transform(data)"
      ],
      "execution_count": 0,
      "outputs": []
    },
    {
      "cell_type": "code",
      "metadata": {
        "id": "rxg4BfmwWGui",
        "colab_type": "code",
        "outputId": "32e55e3d-88a2-4a74-c524-5ae199ac5e21",
        "colab": {}
      },
      "source": [
        "output.select(\"features\").show()"
      ],
      "execution_count": 0,
      "outputs": [
        {
          "output_type": "stream",
          "text": [
            "+--------------------+\n",
            "|            features|\n",
            "+--------------------+\n",
            "|[34.4972677251122...|\n",
            "|[31.9262720263601...|\n",
            "|[33.0009147556426...|\n",
            "|[34.3055566297555...|\n",
            "|[33.3306725236463...|\n",
            "|[33.8710378793419...|\n",
            "|[32.0215955013870...|\n",
            "|[32.7391429383803...|\n",
            "|[33.9877728956856...|\n",
            "|[31.9365486184489...|\n",
            "|[33.9925727749537...|\n",
            "|[33.8793608248049...|\n",
            "|[29.5324289670579...|\n",
            "|[33.1903340437226...|\n",
            "|[32.3879758531538...|\n",
            "|[30.7377203726281...|\n",
            "|[32.1253868972878...|\n",
            "|[32.3388993230671...|\n",
            "|[32.1878120459321...|\n",
            "|[32.6178560628234...|\n",
            "+--------------------+\n",
            "only showing top 20 rows\n",
            "\n"
          ],
          "name": "stdout"
        }
      ]
    },
    {
      "cell_type": "code",
      "metadata": {
        "id": "OCOPAqiBWGuk",
        "colab_type": "code",
        "outputId": "0dc2f867-a233-4012-add5-fd02e65855ac",
        "colab": {}
      },
      "source": [
        "output.show()"
      ],
      "execution_count": 0,
      "outputs": [
        {
          "output_type": "stream",
          "text": [
            "+--------------------+--------------------+----------------+------------------+------------------+------------------+--------------------+-------------------+--------------------+\n",
            "|               Email|             Address|          Avatar|Avg Session Length|       Time on App|   Time on Website|Length of Membership|Yearly Amount Spent|            features|\n",
            "+--------------------+--------------------+----------------+------------------+------------------+------------------+--------------------+-------------------+--------------------+\n",
            "|mstephenson@ferna...|835 Frank TunnelW...|          Violet| 34.49726772511229| 12.65565114916675| 39.57766801952616|  4.0826206329529615|  587.9510539684005|[34.4972677251122...|\n",
            "|   hduke@hotmail.com|4547 Archer Commo...|       DarkGreen| 31.92627202636016|11.109460728682564|37.268958868297744|    2.66403418213262|  392.2049334443264|[31.9262720263601...|\n",
            "|    pallen@yahoo.com|24645 Valerie Uni...|          Bisque|33.000914755642675|11.330278057777512|37.110597442120856|   4.104543202376424| 487.54750486747207|[33.0009147556426...|\n",
            "|riverarebecca@gma...|1414 David Throug...|     SaddleBrown| 34.30555662975554|13.717513665142507| 36.72128267790313|   3.120178782748092|  581.8523440352177|[34.3055566297555...|\n",
            "|mstephens@davidso...|14023 Rodriguez P...|MediumAquaMarine| 33.33067252364639|12.795188551078114| 37.53665330059473|   4.446308318351434|  599.4060920457634|[33.3306725236463...|\n",
            "|alvareznancy@luca...|645 Martha Park A...|     FloralWhite|33.871037879341976|12.026925339755056| 34.47687762925054|   5.493507201364199|   637.102447915074|[33.8710378793419...|\n",
            "|katherine20@yahoo...|68388 Reyes Light...|   DarkSlateBlue| 32.02159550138701|11.366348309710526| 36.68377615286961|   4.685017246570912|  521.5721747578274|[32.0215955013870...|\n",
            "|  awatkins@yahoo.com|Unit 6538 Box 898...|            Aqua|32.739142938380326| 12.35195897300293| 37.37335885854755|  4.4342734348999375|  549.9041461052942|[32.7391429383803...|\n",
            "|vchurch@walter-ma...|860 Lee KeyWest D...|          Salmon| 33.98777289568564|13.386235275676436|37.534497341555735|  3.2734335777477144|  570.2004089636196|[33.9877728956856...|\n",
            "|    bonnie69@lin.biz|PSC 2734, Box 525...|           Brown|31.936548618448917|11.814128294972196| 37.14516822352819|   3.202806071553459|  427.1993848953282|[31.9365486184489...|\n",
            "|andrew06@peterson...|26104 Alexander G...|          Tomato|33.992572774953736|13.338975447662113| 37.22580613162114|   2.482607770510596|  492.6060127179966|[33.9925727749537...|\n",
            "|ryanwerner@freema...|Unit 2413 Box 034...|          Tomato| 33.87936082480498|11.584782999535266| 37.08792607098381|    3.71320920294043|  522.3374046069357|[33.8793608248049...|\n",
            "|   knelson@gmail.com|6705 Miller Orcha...|       RoyalBlue|29.532428967057943|10.961298400154098| 37.42021557502538|   4.046423164299585|  408.6403510726275|[29.5324289670579...|\n",
            "|wrightpeter@yahoo...|05302 Dunlap Ferr...|          Bisque| 33.19033404372265|12.959226091609382|36.144666700041924|   3.918541839158999|  573.4158673313865|[33.1903340437226...|\n",
            "|taylormason@gmail...|7773 Powell Sprin...|        DarkBlue|32.387975853153876|13.148725692056516| 36.61995708279922|   2.494543646659249|  470.4527333009554|[32.3879758531538...|\n",
            "| jstark@anderson.com|49558 Ramirez Roa...|            Peru|30.737720372628182|12.636606052000127|36.213763093698624|  3.3578468423262944|  461.7807421962299|[30.7377203726281...|\n",
            "| wjennings@gmail.com|6362 Wilson Mount...|      PowderBlue| 32.12538689728784|11.733861690857394|  34.8940927514398|  3.1361327164897803| 457.84769594494855|[32.1253868972878...|\n",
            "|rebecca45@hale-ba...|8982 Burton RowWi...|       OliveDrab|32.338899323067196|12.013194694014402| 38.38513659413844|   2.420806160901484| 407.70454754954415|[32.3388993230671...|\n",
            "|alejandro75@hotma...|64475 Andre Club ...|            Cyan|32.187812045932155|  14.7153875441565| 38.24411459434352|   1.516575580831944|  452.3156754800354|[32.1878120459321...|\n",
            "|samuel46@love-wes...|544 Alexander Hei...|   LightSeaGreen| 32.61785606282345|13.989592555825254|37.190503800397956|   4.064548550437977|   605.061038804892|[32.6178560628234...|\n",
            "+--------------------+--------------------+----------------+------------------+------------------+------------------+--------------------+-------------------+--------------------+\n",
            "only showing top 20 rows\n",
            "\n"
          ],
          "name": "stdout"
        }
      ]
    },
    {
      "cell_type": "code",
      "metadata": {
        "id": "scxnBKjSWGuo",
        "colab_type": "code",
        "outputId": "55a0a861-a55d-41f0-a939-90ef865e9fd5",
        "colab": {}
      },
      "source": [
        "final_data = output.select(\"features\",'Yearly Amount Spent')\n",
        "train_data,test_data = final_data.randomSplit([0.75,0.25])\n",
        "train_data.describe().show()"
      ],
      "execution_count": 0,
      "outputs": [
        {
          "output_type": "stream",
          "text": [
            "+-------+-------------------+\n",
            "|summary|Yearly Amount Spent|\n",
            "+-------+-------------------+\n",
            "|  count|                368|\n",
            "|   mean|  495.9653900183871|\n",
            "| stddev|  82.49528108150388|\n",
            "|    min| 256.67058229005585|\n",
            "|    max|  765.5184619388373|\n",
            "+-------+-------------------+\n",
            "\n"
          ],
          "name": "stdout"
        }
      ]
    },
    {
      "cell_type": "code",
      "metadata": {
        "id": "5KMcXrjDWGuq",
        "colab_type": "code",
        "outputId": "fac8399d-fa03-48af-af88-a67f24fc305c",
        "colab": {}
      },
      "source": [
        "test_data.describe().show()"
      ],
      "execution_count": 0,
      "outputs": [
        {
          "output_type": "stream",
          "text": [
            "+-------+-------------------+\n",
            "|summary|Yearly Amount Spent|\n",
            "+-------+-------------------+\n",
            "|  count|                132|\n",
            "|   mean|  508.6496636555225|\n",
            "| stddev|  69.12139916358014|\n",
            "|    min|  319.9288698031936|\n",
            "|    max|   666.125591725772|\n",
            "+-------+-------------------+\n",
            "\n"
          ],
          "name": "stdout"
        }
      ]
    },
    {
      "cell_type": "code",
      "metadata": {
        "id": "E4GgJiFHWGus",
        "colab_type": "code",
        "outputId": "6d281798-c975-4590-ae0d-1ef62611eb81",
        "colab": {}
      },
      "source": [
        "lr = LinearRegression(labelCol='Yearly Amount Spent')\n",
        "lrModel = lr.fit(train_data,)\n",
        "print(\"Coefficients: {} Intercept: {}\".format(lrModel.coefficients,lrModel.intercept))"
      ],
      "execution_count": 0,
      "outputs": [
        {
          "output_type": "stream",
          "text": [
            "Coefficients: [25.920172248886644,39.04170734152336,0.44862316584619216,61.7440505988246] Intercept: -1062.0839051422186\n"
          ],
          "name": "stdout"
        }
      ]
    },
    {
      "cell_type": "code",
      "metadata": {
        "id": "ZrS9Z6O1WGuu",
        "colab_type": "code",
        "outputId": "f9a3ab1f-5d8f-4023-d237-d2f8bf3df7e9",
        "colab": {}
      },
      "source": [
        "test_results = lrModel.evaluate(test_data)\n",
        "test_results.residuals.show()"
      ],
      "execution_count": 0,
      "outputs": [
        {
          "output_type": "stream",
          "text": [
            "+-------------------+\n",
            "|          residuals|\n",
            "+-------------------+\n",
            "|-11.547741616546432|\n",
            "| 10.209567087504752|\n",
            "| -4.819121524900481|\n",
            "|-22.072495066624356|\n",
            "|   9.42507464224036|\n",
            "| -4.183244537577821|\n",
            "| 3.3195640241191313|\n",
            "| 0.5040002289524637|\n",
            "|-4.8852979575760855|\n",
            "|-2.7529455052546155|\n",
            "| -5.351948721453766|\n",
            "|  7.428932267044672|\n",
            "| 0.9123529366950152|\n",
            "| -5.699374093433505|\n",
            "|-14.179693679654747|\n",
            "|-0.2107830020809729|\n",
            "| -9.230193090986404|\n",
            "|  3.035489823709156|\n",
            "|  4.348119829620487|\n",
            "| -6.748740298909524|\n",
            "+-------------------+\n",
            "only showing top 20 rows\n",
            "\n"
          ],
          "name": "stdout"
        }
      ]
    },
    {
      "cell_type": "code",
      "metadata": {
        "id": "jtOhAQMIWGux",
        "colab_type": "code",
        "colab": {}
      },
      "source": [
        "for item in data.head():unlabeled_data = test_data.select('features')"
      ],
      "execution_count": 0,
      "outputs": []
    },
    {
      "cell_type": "code",
      "metadata": {
        "id": "h9dUsVNyWGuz",
        "colab_type": "code",
        "outputId": "4d612b29-fcb8-4bec-f17d-013014d60902",
        "colab": {}
      },
      "source": [
        "predictions = lrModel.transform(unlabeled_data)\n",
        "predictions.show()"
      ],
      "execution_count": 0,
      "outputs": [
        {
          "output_type": "stream",
          "text": [
            "+--------------------+------------------+\n",
            "|            features|        prediction|\n",
            "+--------------------+------------------+\n",
            "|[30.3931845423455...|331.47661141974004|\n",
            "|[30.7377203726281...|451.57117510872513|\n",
            "|[30.8364326747734...| 472.3210219518901|\n",
            "|[31.1239743499119...| 509.0195489063901|\n",
            "|[31.1695067987115...|417.93145616005245|\n",
            "|[31.2681042107507...|427.65377771140174|\n",
            "|[31.3584771924370...| 491.8563864253563|\n",
            "|[31.3895854806643...| 409.5656108310304|\n",
            "|[31.4252268808548...|  535.652016612338|\n",
            "|[31.5761319713222...|  543.979529494583|\n",
            "|[31.7656188210424...| 501.9060303570609|\n",
            "|[31.8209982016720...| 417.2463487461687|\n",
            "|[31.8293464559211...|   384.23998505128|\n",
            "|[31.8745516945853...|  397.984618339701|\n",
            "|[31.9365486184489...|441.37907857498294|\n",
            "|[32.0047530203648...| 463.9567641227104|\n",
            "|[32.0085045178551...| 452.4274141197418|\n",
            "|[32.0123007682454...| 489.9095632422491|\n",
            "|[32.0305497162129...| 589.9263635889913|\n",
            "|[32.0883806304482...| 518.9146066870676|\n",
            "+--------------------+------------------+\n",
            "only showing top 20 rows\n",
            "\n"
          ],
          "name": "stdout"
        }
      ]
    },
    {
      "cell_type": "code",
      "metadata": {
        "id": "Q69wUzJeWGu6",
        "colab_type": "code",
        "outputId": "815d6575-8dde-46bc-f857-789280d60cfb",
        "colab": {}
      },
      "source": [
        "print(\"RMSE: {}\".format(test_results.rootMeanSquaredError))\n",
        "print(\"MSE: {}\".format(test_results.meanSquaredError))"
      ],
      "execution_count": 0,
      "outputs": [
        {
          "output_type": "stream",
          "text": [
            "RMSE: 9.968185033455288\n",
            "MSE: 99.36471286120201\n"
          ],
          "name": "stdout"
        }
      ]
    },
    {
      "cell_type": "code",
      "metadata": {
        "id": "Rk35JDQoWGu9",
        "colab_type": "code",
        "colab": {}
      },
      "source": [
        ""
      ],
      "execution_count": 0,
      "outputs": []
    },
    {
      "cell_type": "code",
      "metadata": {
        "id": "VibHiDmxWGu_",
        "colab_type": "code",
        "colab": {}
      },
      "source": [
        ""
      ],
      "execution_count": 0,
      "outputs": []
    },
    {
      "cell_type": "code",
      "metadata": {
        "id": "HUlFgITQWGvA",
        "colab_type": "code",
        "colab": {}
      },
      "source": [
        ""
      ],
      "execution_count": 0,
      "outputs": []
    },
    {
      "cell_type": "code",
      "metadata": {
        "id": "AqTSRAQfWGvD",
        "colab_type": "code",
        "colab": {}
      },
      "source": [
        ""
      ],
      "execution_count": 0,
      "outputs": []
    }
  ]
}