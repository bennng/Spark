{
  "nbformat": 4,
  "nbformat_minor": 0,
  "metadata": {
    "anaconda-cloud": {},
    "kernelspec": {
      "display_name": "Python [conda root]",
      "language": "python",
      "name": "conda-root-py"
    },
    "language_info": {
      "codemirror_mode": {
        "name": "ipython",
        "version": 3
      },
      "file_extension": ".py",
      "mimetype": "text/x-python",
      "name": "python",
      "nbconvert_exporter": "python",
      "pygments_lexer": "ipython3",
      "version": "3.5.3"
    },
    "colab": {
      "name": "Linear_Regression_Code_Along.ipynb",
      "provenance": [],
      "include_colab_link": true
    }
  },
  "cells": [
    {
      "cell_type": "markdown",
      "metadata": {
        "id": "view-in-github",
        "colab_type": "text"
      },
      "source": [
        "<a href=\"https://colab.research.google.com/github/bennng/Spark/blob/master/Linear_Regression_Code_Along.ipynb\" target=\"_parent\"><img src=\"https://colab.research.google.com/assets/colab-badge.svg\" alt=\"Open In Colab\"/></a>"
      ]
    },
    {
      "cell_type": "markdown",
      "metadata": {
        "id": "wX6YOU6Zhod9",
        "colab_type": "text"
      },
      "source": [
        "# Linear Regression Code Along"
      ]
    },
    {
      "cell_type": "markdown",
      "metadata": {
        "id": "cdfKrnn1hoeA",
        "colab_type": "text"
      },
      "source": [
        "This notebook is the reference for the video lecture on the Linear Regression Code Along. Basically what we do here is examine a dataset with Ecommerce Customer Data for a company's website and mobile app. Then we want to see if we can build a regression model that will predict the customer's yearly spend on the company's product."
      ]
    },
    {
      "cell_type": "markdown",
      "metadata": {
        "id": "rl7jCZS6hoeB",
        "colab_type": "text"
      },
      "source": [
        "First thing to do is start a Spark Session"
      ]
    },
    {
      "cell_type": "code",
      "metadata": {
        "id": "L_LcYRPGhoeB",
        "colab_type": "code",
        "colab": {}
      },
      "source": [
        "from pyspark.sql import SparkSession\n",
        "spark = SparkSession.builder.appName('lr_example').getOrCreate()"
      ],
      "execution_count": 0,
      "outputs": []
    },
    {
      "cell_type": "code",
      "metadata": {
        "id": "_Tf5H2UfhoeF",
        "colab_type": "code",
        "colab": {}
      },
      "source": [
        "from pyspark.ml.regression import LinearRegression"
      ],
      "execution_count": 0,
      "outputs": []
    },
    {
      "cell_type": "code",
      "metadata": {
        "id": "OSAwFxuyhoeH",
        "colab_type": "code",
        "colab": {}
      },
      "source": [
        "# Use Spark to read in the Ecommerce Customers csv file.\n",
        "data = spark.read.csv(\"Ecommerce_Customers.csv\",inferSchema=True,header=True)"
      ],
      "execution_count": 0,
      "outputs": []
    },
    {
      "cell_type": "code",
      "metadata": {
        "id": "H_IKCPJNhoeK",
        "colab_type": "code",
        "colab": {},
        "outputId": "5ce72c8e-2722-4fda-c556-ce0bd506e526"
      },
      "source": [
        "# Print the Schema of the DataFrame\n",
        "data.printSchema()"
      ],
      "execution_count": 0,
      "outputs": [
        {
          "output_type": "stream",
          "text": [
            "root\n",
            " |-- Email: string (nullable = true)\n",
            " |-- Address: string (nullable = true)\n",
            " |-- Avatar: string (nullable = true)\n",
            " |-- Avg Session Length: double (nullable = true)\n",
            " |-- Time on App: double (nullable = true)\n",
            " |-- Time on Website: double (nullable = true)\n",
            " |-- Length of Membership: double (nullable = true)\n",
            " |-- Yearly Amount Spent: double (nullable = true)\n",
            "\n"
          ],
          "name": "stdout"
        }
      ]
    },
    {
      "cell_type": "code",
      "metadata": {
        "id": "Z_5CS3G6hoeN",
        "colab_type": "code",
        "colab": {},
        "outputId": "aca120c5-8b64-4af4-c4bb-326078034dbc"
      },
      "source": [
        "data.show()"
      ],
      "execution_count": 0,
      "outputs": [
        {
          "output_type": "stream",
          "text": [
            "+--------------------+--------------------+----------------+------------------+------------------+------------------+--------------------+-------------------+\n",
            "|               Email|             Address|          Avatar|Avg Session Length|       Time on App|   Time on Website|Length of Membership|Yearly Amount Spent|\n",
            "+--------------------+--------------------+----------------+------------------+------------------+------------------+--------------------+-------------------+\n",
            "|mstephenson@ferna...|835 Frank Tunnel\n",
            "...|          Violet| 34.49726772511229|12.655651149166752| 39.57766801952616|   4.082620632952961|  587.9510539684005|\n",
            "|   hduke@hotmail.com|4547 Archer Commo...|       DarkGreen|31.926272026360156|11.109460728682564|37.268958868297744|    2.66403418213262|  392.2049334443264|\n",
            "|    pallen@yahoo.com|24645 Valerie Uni...|          Bisque|33.000914755642675|11.330278057777512| 37.11059744212085|   4.104543202376424| 487.54750486747207|\n",
            "|riverarebecca@gma...|1414 David Throug...|     SaddleBrown| 34.30555662975554|13.717513665142508| 36.72128267790313|  3.1201787827480914|  581.8523440352178|\n",
            "|mstephens@davidso...|14023 Rodriguez P...|MediumAquaMarine| 33.33067252364639|12.795188551078114| 37.53665330059473|   4.446308318351435|  599.4060920457634|\n",
            "|alvareznancy@luca...|645 Martha Park A...|     FloralWhite| 33.87103787934198|12.026925339755058| 34.47687762925054|   5.493507201364199|   637.102447915074|\n",
            "|katherine20@yahoo...|68388 Reyes Light...|   DarkSlateBlue| 32.02159550138701|11.366348309710526|36.683776152869605|  4.6850172465709115|  521.5721747578274|\n",
            "|  awatkins@yahoo.com|Unit 6538 Box 898...|            Aqua|32.739142938380326| 12.35195897300293|37.373358858547554|  4.4342734348999375|  549.9041461052942|\n",
            "|vchurch@walter-ma...|860 Lee Key\n",
            "West ...|          Salmon| 33.98777289568564|13.386235275676434|37.534497341555735|  3.2734335777477144|  570.2004089636195|\n",
            "|    bonnie69@lin.biz|PSC 2734, Box 525...|           Brown|31.936548618448914|11.814128294972196| 37.14516822352819|   3.202806071553459| 427.19938489532814|\n",
            "|andrew06@peterson...|26104 Alexander G...|          Tomato| 33.99257277495374|13.338975447662111| 37.22580613162114|  2.4826077705105956|  492.6060127179966|\n",
            "|ryanwerner@freema...|Unit 2413 Box 034...|          Tomato| 33.87936082480498|11.584782999535266|37.087926070983805|    3.71320920294043|  522.3374046069357|\n",
            "|   knelson@gmail.com|6705 Miller Orcha...|       RoyalBlue|29.532428967057946|10.961298400154098| 37.42021557502538|   4.046423164299585| 408.64035107262754|\n",
            "|wrightpeter@yahoo...|05302 Dunlap Ferr...|          Bisque| 33.19033404372265|12.959226091609382|36.144666700041924|  3.9185418391589986|  573.4158673313865|\n",
            "|taylormason@gmail...|7773 Powell Sprin...|        DarkBlue| 32.38797585315387|13.148725692056516| 36.61995708279922|   2.494543646659249| 470.45273330095546|\n",
            "| jstark@anderson.com|49558 Ramirez Roa...|            Peru|30.737720372628186|12.636606052000129|36.213763093698624|   3.357846842326294|  461.7807421962299|\n",
            "| wjennings@gmail.com|6362 Wilson Mount...|      PowderBlue| 32.12538689728784|11.733861690857392|  34.8940927514398|  3.1361327164897803| 457.84769594494855|\n",
            "|rebecca45@hale-ba...|8982 Burton Row\n",
            "W...|       OliveDrab| 32.33889932306719|  12.0131946940144| 38.38513659413844|   2.420806160901484|  407.7045475495441|\n",
            "|alejandro75@hotma...|64475 Andre Club ...|            Cyan|32.187812045932155|14.715387544156501|38.244114594343515|  1.5165755808319439| 452.31567548003545|\n",
            "|samuel46@love-wes...|544 Alexander Hei...|   LightSeaGreen| 32.61785606282345|13.989592555825254|37.190503800397956|   4.064548550437977|   605.061038804892|\n",
            "+--------------------+--------------------+----------------+------------------+------------------+------------------+--------------------+-------------------+\n",
            "only showing top 20 rows\n",
            "\n"
          ],
          "name": "stdout"
        }
      ]
    },
    {
      "cell_type": "code",
      "metadata": {
        "id": "cfU3FQoQhoeQ",
        "colab_type": "code",
        "colab": {},
        "outputId": "190bb7d0-0ab9-4ddd-db24-ad623a4a005f"
      },
      "source": [
        "data.head()"
      ],
      "execution_count": 0,
      "outputs": [
        {
          "output_type": "execute_result",
          "data": {
            "text/plain": [
              "Row(Email='mstephenson@fernandez.com', Address='835 Frank Tunnel\\nWrightmouth, MI 82180-9605', Avatar='Violet', Avg Session Length=34.49726772511229, Time on App=12.655651149166752, Time on Website=39.57766801952616, Length of Membership=4.082620632952961, Yearly Amount Spent=587.9510539684005)"
            ]
          },
          "metadata": {
            "tags": []
          },
          "execution_count": 6
        }
      ]
    },
    {
      "cell_type": "code",
      "metadata": {
        "id": "WT6ynMyWhoeS",
        "colab_type": "code",
        "colab": {},
        "outputId": "56851da3-4db3-4606-fe6e-8f903cfb79a0"
      },
      "source": [
        "for item in data.head():\n",
        "    print(item)"
      ],
      "execution_count": 0,
      "outputs": [
        {
          "output_type": "stream",
          "text": [
            "mstephenson@fernandez.com\n",
            "835 Frank Tunnel\n",
            "Wrightmouth, MI 82180-9605\n",
            "Violet\n",
            "34.49726772511229\n",
            "12.655651149166752\n",
            "39.57766801952616\n",
            "4.082620632952961\n",
            "587.9510539684005\n"
          ],
          "name": "stdout"
        }
      ]
    },
    {
      "cell_type": "markdown",
      "metadata": {
        "id": "UoJ0QdcGhoeU",
        "colab_type": "text"
      },
      "source": [
        "## Setting Up DataFrame for Machine Learning "
      ]
    },
    {
      "cell_type": "code",
      "metadata": {
        "id": "Ghla54C0hoeV",
        "colab_type": "code",
        "colab": {}
      },
      "source": [
        "# A few things we need to do before Spark can accept the data!\n",
        "# It needs to be in the form of two columns\n",
        "# (\"label\",\"features\")\n",
        "\n",
        "# Import VectorAssembler and Vectors\n",
        "from pyspark.ml.linalg import Vectors\n",
        "from pyspark.ml.feature import VectorAssembler"
      ],
      "execution_count": 0,
      "outputs": []
    },
    {
      "cell_type": "code",
      "metadata": {
        "id": "wgZGx_N8hoeX",
        "colab_type": "code",
        "colab": {},
        "outputId": "43ff3d9e-b835-405e-bab0-971a4214d6e0"
      },
      "source": [
        "data.columns"
      ],
      "execution_count": 0,
      "outputs": [
        {
          "output_type": "execute_result",
          "data": {
            "text/plain": [
              "['Email',\n",
              " 'Address',\n",
              " 'Avatar',\n",
              " 'Avg Session Length',\n",
              " 'Time on App',\n",
              " 'Time on Website',\n",
              " 'Length of Membership',\n",
              " 'Yearly Amount Spent']"
            ]
          },
          "metadata": {
            "tags": []
          },
          "execution_count": 9
        }
      ]
    },
    {
      "cell_type": "code",
      "metadata": {
        "id": "k62VfLhmhoeZ",
        "colab_type": "code",
        "colab": {}
      },
      "source": [
        "assembler = VectorAssembler(\n",
        "    inputCols=[\"Avg Session Length\", \"Time on App\", \n",
        "               \"Time on Website\",'Length of Membership'],\n",
        "    outputCol=\"features\")"
      ],
      "execution_count": 0,
      "outputs": []
    },
    {
      "cell_type": "code",
      "metadata": {
        "id": "rUrxqUKohoeb",
        "colab_type": "code",
        "colab": {}
      },
      "source": [
        "output = assembler.transform(data)"
      ],
      "execution_count": 0,
      "outputs": []
    },
    {
      "cell_type": "code",
      "metadata": {
        "id": "7IRCbBN8hoed",
        "colab_type": "code",
        "colab": {},
        "outputId": "02f464f0-8a18-4d66-bcac-2119a4fd32b7"
      },
      "source": [
        "output.select(\"features\").show()"
      ],
      "execution_count": 0,
      "outputs": [
        {
          "output_type": "stream",
          "text": [
            "+--------------------+\n",
            "|            features|\n",
            "+--------------------+\n",
            "|[34.4972677251122...|\n",
            "|[31.9262720263601...|\n",
            "|[33.0009147556426...|\n",
            "|[34.3055566297555...|\n",
            "|[33.3306725236463...|\n",
            "|[33.8710378793419...|\n",
            "|[32.0215955013870...|\n",
            "|[32.7391429383803...|\n",
            "|[33.9877728956856...|\n",
            "|[31.9365486184489...|\n",
            "|[33.9925727749537...|\n",
            "|[33.8793608248049...|\n",
            "|[29.5324289670579...|\n",
            "|[33.1903340437226...|\n",
            "|[32.3879758531538...|\n",
            "|[30.7377203726281...|\n",
            "|[32.1253868972878...|\n",
            "|[32.3388993230671...|\n",
            "|[32.1878120459321...|\n",
            "|[32.6178560628234...|\n",
            "+--------------------+\n",
            "only showing top 20 rows\n",
            "\n"
          ],
          "name": "stdout"
        }
      ]
    },
    {
      "cell_type": "code",
      "metadata": {
        "id": "jb1TCPNthoeg",
        "colab_type": "code",
        "colab": {},
        "outputId": "413ae782-e90d-468c-e626-2ef0da01b575"
      },
      "source": [
        "output.show()"
      ],
      "execution_count": 0,
      "outputs": [
        {
          "output_type": "stream",
          "text": [
            "+--------------------+--------------------+----------------+------------------+------------------+------------------+--------------------+-------------------+--------------------+\n",
            "|               Email|             Address|          Avatar|Avg Session Length|       Time on App|   Time on Website|Length of Membership|Yearly Amount Spent|            features|\n",
            "+--------------------+--------------------+----------------+------------------+------------------+------------------+--------------------+-------------------+--------------------+\n",
            "|mstephenson@ferna...|835 Frank Tunnel\n",
            "...|          Violet| 34.49726772511229|12.655651149166752| 39.57766801952616|   4.082620632952961|  587.9510539684005|[34.4972677251122...|\n",
            "|   hduke@hotmail.com|4547 Archer Commo...|       DarkGreen|31.926272026360156|11.109460728682564|37.268958868297744|    2.66403418213262|  392.2049334443264|[31.9262720263601...|\n",
            "|    pallen@yahoo.com|24645 Valerie Uni...|          Bisque|33.000914755642675|11.330278057777512| 37.11059744212085|   4.104543202376424| 487.54750486747207|[33.0009147556426...|\n",
            "|riverarebecca@gma...|1414 David Throug...|     SaddleBrown| 34.30555662975554|13.717513665142508| 36.72128267790313|  3.1201787827480914|  581.8523440352178|[34.3055566297555...|\n",
            "|mstephens@davidso...|14023 Rodriguez P...|MediumAquaMarine| 33.33067252364639|12.795188551078114| 37.53665330059473|   4.446308318351435|  599.4060920457634|[33.3306725236463...|\n",
            "|alvareznancy@luca...|645 Martha Park A...|     FloralWhite| 33.87103787934198|12.026925339755058| 34.47687762925054|   5.493507201364199|   637.102447915074|[33.8710378793419...|\n",
            "|katherine20@yahoo...|68388 Reyes Light...|   DarkSlateBlue| 32.02159550138701|11.366348309710526|36.683776152869605|  4.6850172465709115|  521.5721747578274|[32.0215955013870...|\n",
            "|  awatkins@yahoo.com|Unit 6538 Box 898...|            Aqua|32.739142938380326| 12.35195897300293|37.373358858547554|  4.4342734348999375|  549.9041461052942|[32.7391429383803...|\n",
            "|vchurch@walter-ma...|860 Lee Key\n",
            "West ...|          Salmon| 33.98777289568564|13.386235275676434|37.534497341555735|  3.2734335777477144|  570.2004089636195|[33.9877728956856...|\n",
            "|    bonnie69@lin.biz|PSC 2734, Box 525...|           Brown|31.936548618448914|11.814128294972196| 37.14516822352819|   3.202806071553459| 427.19938489532814|[31.9365486184489...|\n",
            "|andrew06@peterson...|26104 Alexander G...|          Tomato| 33.99257277495374|13.338975447662111| 37.22580613162114|  2.4826077705105956|  492.6060127179966|[33.9925727749537...|\n",
            "|ryanwerner@freema...|Unit 2413 Box 034...|          Tomato| 33.87936082480498|11.584782999535266|37.087926070983805|    3.71320920294043|  522.3374046069357|[33.8793608248049...|\n",
            "|   knelson@gmail.com|6705 Miller Orcha...|       RoyalBlue|29.532428967057946|10.961298400154098| 37.42021557502538|   4.046423164299585| 408.64035107262754|[29.5324289670579...|\n",
            "|wrightpeter@yahoo...|05302 Dunlap Ferr...|          Bisque| 33.19033404372265|12.959226091609382|36.144666700041924|  3.9185418391589986|  573.4158673313865|[33.1903340437226...|\n",
            "|taylormason@gmail...|7773 Powell Sprin...|        DarkBlue| 32.38797585315387|13.148725692056516| 36.61995708279922|   2.494543646659249| 470.45273330095546|[32.3879758531538...|\n",
            "| jstark@anderson.com|49558 Ramirez Roa...|            Peru|30.737720372628186|12.636606052000129|36.213763093698624|   3.357846842326294|  461.7807421962299|[30.7377203726281...|\n",
            "| wjennings@gmail.com|6362 Wilson Mount...|      PowderBlue| 32.12538689728784|11.733861690857392|  34.8940927514398|  3.1361327164897803| 457.84769594494855|[32.1253868972878...|\n",
            "|rebecca45@hale-ba...|8982 Burton Row\n",
            "W...|       OliveDrab| 32.33889932306719|  12.0131946940144| 38.38513659413844|   2.420806160901484|  407.7045475495441|[32.3388993230671...|\n",
            "|alejandro75@hotma...|64475 Andre Club ...|            Cyan|32.187812045932155|14.715387544156501|38.244114594343515|  1.5165755808319439| 452.31567548003545|[32.1878120459321...|\n",
            "|samuel46@love-wes...|544 Alexander Hei...|   LightSeaGreen| 32.61785606282345|13.989592555825254|37.190503800397956|   4.064548550437977|   605.061038804892|[32.6178560628234...|\n",
            "+--------------------+--------------------+----------------+------------------+------------------+------------------+--------------------+-------------------+--------------------+\n",
            "only showing top 20 rows\n",
            "\n"
          ],
          "name": "stdout"
        }
      ]
    },
    {
      "cell_type": "code",
      "metadata": {
        "id": "BERQspMhhoei",
        "colab_type": "code",
        "colab": {}
      },
      "source": [
        "final_data = output.select(\"features\",'Yearly Amount Spent')"
      ],
      "execution_count": 0,
      "outputs": []
    },
    {
      "cell_type": "code",
      "metadata": {
        "id": "HnFvYg8vhoek",
        "colab_type": "code",
        "colab": {}
      },
      "source": [
        "train_data,test_data = final_data.randomSplit([0.7,0.3])"
      ],
      "execution_count": 0,
      "outputs": []
    },
    {
      "cell_type": "code",
      "metadata": {
        "id": "4VyxRlSuhoem",
        "colab_type": "code",
        "colab": {},
        "outputId": "ff96bce8-015a-4934-8e5c-abeb26ce30e7"
      },
      "source": [
        "train_data.describe().show()"
      ],
      "execution_count": 0,
      "outputs": [
        {
          "output_type": "stream",
          "text": [
            "+-------+-------------------+\n",
            "|summary|Yearly Amount Spent|\n",
            "+-------+-------------------+\n",
            "|  count|                374|\n",
            "|   mean| 494.77136952135584|\n",
            "| stddev|  79.32347347332397|\n",
            "|    min| 256.67058229005585|\n",
            "|    max|  765.5184619388372|\n",
            "+-------+-------------------+\n",
            "\n"
          ],
          "name": "stdout"
        }
      ]
    },
    {
      "cell_type": "code",
      "metadata": {
        "id": "oTVNw0M0hoeo",
        "colab_type": "code",
        "colab": {},
        "outputId": "b975f57d-7b5f-4f63-b090-cb17dc17cba2"
      },
      "source": [
        "test_data.describe().show()"
      ],
      "execution_count": 0,
      "outputs": [
        {
          "output_type": "stream",
          "text": [
            "+-------+-------------------+\n",
            "|summary|Yearly Amount Spent|\n",
            "+-------+-------------------+\n",
            "|  count|                126|\n",
            "|   mean|  512.7978327643508|\n",
            "| stddev|  78.05150254141621|\n",
            "|    min|  275.9184206503857|\n",
            "|    max|  689.2356997616951|\n",
            "+-------+-------------------+\n",
            "\n"
          ],
          "name": "stdout"
        }
      ]
    },
    {
      "cell_type": "code",
      "metadata": {
        "id": "iaB3UR24hoeq",
        "colab_type": "code",
        "colab": {}
      },
      "source": [
        "# Create a Linear Regression Model object\n",
        "lr = LinearRegression(labelCol='Yearly Amount Spent')"
      ],
      "execution_count": 0,
      "outputs": []
    },
    {
      "cell_type": "code",
      "metadata": {
        "id": "yeE_xTHnhoer",
        "colab_type": "code",
        "colab": {}
      },
      "source": [
        "# Fit the model to the data and call this model lrModel\n",
        "lrModel = lr.fit(train_data,)"
      ],
      "execution_count": 0,
      "outputs": []
    },
    {
      "cell_type": "code",
      "metadata": {
        "id": "cRw0cbSahoet",
        "colab_type": "code",
        "colab": {},
        "outputId": "a7cd569b-c3f0-42fb-ab28-f2cf9bf78dba"
      },
      "source": [
        "# Print the coefficients and intercept for linear regression\n",
        "print(\"Coefficients: {} Intercept: {}\".format(lrModel.coefficients,lrModel.intercept))"
      ],
      "execution_count": 0,
      "outputs": [
        {
          "output_type": "stream",
          "text": [
            "Coefficients: [25.9313842258,38.5223901033,0.061323831352,61.8542031461] Intercept: -1042.5967496966575\n"
          ],
          "name": "stdout"
        }
      ]
    },
    {
      "cell_type": "code",
      "metadata": {
        "id": "jsczaZzkhoev",
        "colab_type": "code",
        "colab": {}
      },
      "source": [
        "test_results = lrModel.evaluate(test_data)"
      ],
      "execution_count": 0,
      "outputs": []
    },
    {
      "cell_type": "code",
      "metadata": {
        "id": "RY4Q1DgLhoex",
        "colab_type": "code",
        "colab": {},
        "outputId": "4733d31d-bd27-4acf-a7cc-afd0c9186cb4"
      },
      "source": [
        "# Interesting results....\n",
        "test_results.residuals.show()"
      ],
      "execution_count": 0,
      "outputs": [
        {
          "output_type": "stream",
          "text": [
            "+--------------------+\n",
            "|           residuals|\n",
            "+--------------------+\n",
            "|  0.0211314098588673|\n",
            "|   5.133420657904367|\n",
            "| -22.148174773562573|\n",
            "|-0.28200824770379995|\n",
            "|  2.6981651070976795|\n",
            "|  0.7429079096369264|\n",
            "|  -3.455359493022627|\n",
            "| -2.1941889835831034|\n",
            "|   7.147573069494342|\n",
            "|   1.206688448485238|\n",
            "| -12.184920705516333|\n",
            "|  0.9395486603143581|\n",
            "|   7.893631818058566|\n",
            "| -1.6946216546640471|\n",
            "|  -9.987986847356694|\n",
            "|  -6.281630483941342|\n",
            "|  -9.000712269275198|\n",
            "|  -18.16281648837412|\n",
            "|  -9.055807893457029|\n",
            "|    3.71115734739368|\n",
            "+--------------------+\n",
            "only showing top 20 rows\n",
            "\n"
          ],
          "name": "stdout"
        }
      ]
    },
    {
      "cell_type": "code",
      "metadata": {
        "id": "c94mzlpChoez",
        "colab_type": "code",
        "colab": {}
      },
      "source": [
        "unlabeled_data = test_data.select('features')"
      ],
      "execution_count": 0,
      "outputs": []
    },
    {
      "cell_type": "code",
      "metadata": {
        "id": "UePfFT7Qhoe1",
        "colab_type": "code",
        "colab": {}
      },
      "source": [
        "predictions = lrModel.transform(unlabeled_data)"
      ],
      "execution_count": 0,
      "outputs": []
    },
    {
      "cell_type": "code",
      "metadata": {
        "id": "Xfh_fEajhoe3",
        "colab_type": "code",
        "colab": {},
        "outputId": "7ee6278d-cde3-40c0-8c84-1d1149139d73"
      },
      "source": [
        "predictions.show()"
      ],
      "execution_count": 0,
      "outputs": [
        {
          "output_type": "stream",
          "text": [
            "+--------------------+------------------+\n",
            "|            features|        prediction|\n",
            "+--------------------+------------------+\n",
            "|[30.5743636841713...|442.04328234820673|\n",
            "|[31.0472221394875...|  387.363978531117|\n",
            "|[31.1239743499119...|509.09522861332835|\n",
            "|[31.2606468698795...|421.60863950465523|\n",
            "|[31.3091926408918...|430.02255273283595|\n",
            "|[31.3895854806644...|  409.326703150346|\n",
            "|[31.5171218025062...|279.37378014340834|\n",
            "|[31.5761319713222...| 543.4207729729114|\n",
            "|[31.6548096756927...| 468.1158506580541|\n",
            "|[31.7366356860502...| 495.7267578070466|\n",
            "|[31.8093003166791...| 548.9568200683575|\n",
            "|[31.8293464559211...|384.21278932766063|\n",
            "|[31.8512531286083...|465.09861484873977|\n",
            "|[31.8627411090001...| 557.9927628287107|\n",
            "|[31.8648325480987...| 449.8792673241703|\n",
            "|[31.8745516945853...|398.56687473020884|\n",
            "|[31.8854062999117...| 399.1039852417507|\n",
            "|[31.9563005605233...| 565.2887482355729|\n",
            "|[32.0085045178551...| 452.2530289222125|\n",
            "|[32.0123007682454...|489.23389571856455|\n",
            "+--------------------+------------------+\n",
            "only showing top 20 rows\n",
            "\n"
          ],
          "name": "stdout"
        }
      ]
    },
    {
      "cell_type": "code",
      "metadata": {
        "id": "0WyZBASthoe5",
        "colab_type": "code",
        "colab": {},
        "outputId": "d480bd50-bddd-4bf3-bbd8-f416d6390424"
      },
      "source": [
        "print(\"RMSE: {}\".format(test_results.rootMeanSquaredError))\n",
        "print(\"MSE: {}\".format(test_results.meanSquaredError))"
      ],
      "execution_count": 0,
      "outputs": [
        {
          "output_type": "stream",
          "text": [
            "RMSE: 10.744845638086671\n",
            "MSE: 115.45170778631018\n"
          ],
          "name": "stdout"
        }
      ]
    },
    {
      "cell_type": "markdown",
      "metadata": {
        "id": "VZTL1AVUhoe7",
        "colab_type": "text"
      },
      "source": [
        "Excellent results! Let's see how you handle some more realistically modeled data in the Consulting Project!"
      ]
    }
  ]
}